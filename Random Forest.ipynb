{
 "cells": [
  {
   "cell_type": "markdown",
   "metadata": {},
   "source": [
    "## Data Munging"
   ]
  },
  {
   "cell_type": "code",
   "execution_count": 1,
   "metadata": {
    "collapsed": true
   },
   "outputs": [],
   "source": [
    "from sklearn.model_selection import train_test_split\n",
    "from scipy.io import wavfile\n",
    "import pandas as pd\n",
    "import numpy as np"
   ]
  },
  {
   "cell_type": "code",
   "execution_count": 2,
   "metadata": {
    "collapsed": true
   },
   "outputs": [],
   "source": [
    "INPUT_LIB = '/Users/qiller/Downloads/MSBA 7011/Final pro/heartbeat-sounds/'\n",
    "SAMPLE_RATE = 44100\n",
    "CLASSES = ['artifact', 'normal', 'extrahls', 'murmur']\n",
    "CODE_BOOK = {x:i for i,x in enumerate(CLASSES)}   \n",
    "NB_CLASSES = len(CLASSES)"
   ]
  },
  {
   "cell_type": "code",
   "execution_count": 3,
   "metadata": {
    "collapsed": true
   },
   "outputs": [],
   "source": [
    "def clean_filename(fname, string):   \n",
    "    file_name = fname.split('/')[1]\n",
    "    if file_name[:2] == '__':        \n",
    "        file_name = string + file_name\n",
    "    return file_name\n",
    "\n",
    "def load_wav_file(name, path):\n",
    "    _, b = wavfile.read(path + name)\n",
    "    assert _ == SAMPLE_RATE\n",
    "    return b\n",
    "\n",
    "def repeat_to_length(arr, length):\n",
    "    \"\"\"Repeats the numpy 1D array to given length, and makes datatype float\"\"\"\n",
    "    result = np.empty((length, ), dtype = 'float32')\n",
    "    l = len(arr)\n",
    "    pos = 0\n",
    "    while pos + l <= length:\n",
    "        result[pos:pos+l] = arr\n",
    "        pos += l\n",
    "    if pos < length:\n",
    "        result[pos:length] = arr[:length-pos]\n",
    "    return result\n",
    "\n",
    "def change_filename(fname, string='Aunlabelledtest'):\n",
    "    file_name = fname.split('/')[1]\n",
    "    if file_name[:2] == '__':        \n",
    "        file_name = string + file_name\n",
    "    return file_name"
   ]
  },
  {
   "cell_type": "code",
   "execution_count": 4,
   "metadata": {},
   "outputs": [
    {
     "name": "stdout",
     "output_type": "stream",
     "text": [
      "[array([ 0.,  0.,  0., ...,  0.,  0.,  0.], dtype=float32)\n",
      " array([ 0.,  0.,  0., ...,  0.,  0.,  0.], dtype=float32)\n",
      " array([ 0.,  0.,  0., ...,  0.,  0.,  0.], dtype=float32)\n",
      " array([  -6.,   -6.,   -4., ..., -183., -183., -185.], dtype=float32)\n",
      " array([ -30.,  -31.,  -30., ..., -126., -126., -124.], dtype=float32)\n",
      " array([  0.,   0.,   0., ...,  22.,  27.,  30.], dtype=float32)\n",
      " array([   2.,    1.,    1., ...,  192.,  185.,  177.], dtype=float32)\n",
      " array([ 79.,  73.,  65., ...,   6.,  13.,  20.], dtype=float32)\n",
      " array([ 13.,  12.,  11., ..., -16., -17., -18.], dtype=float32)\n",
      " array([ 1138.,  1107.,  1074., ...,  1152.,  1191.,  1208.], dtype=float32)\n",
      " array([  0.,   0.,   0., ..., -51., -58., -62.], dtype=float32)\n",
      " array([ 63.,  59.,  55., ...,   0.,   0.,   0.], dtype=float32)\n",
      " array([ 876.,  891.,  907., ...,    7.,    7.,    6.], dtype=float32)\n",
      " array([ 2274.,  1822.,  1335., ...,  -481.,  -817., -1158.], dtype=float32)\n",
      " array([ 2.,  2.,  2., ...,  3.,  5.,  6.], dtype=float32)\n",
      " array([-56., -57., -59., ...,   0.,   0.,   0.], dtype=float32)\n",
      " array([-6385., -6104., -5795., ...,    56.,    60.,    63.], dtype=float32)\n",
      " array([-12., -12., -12., ..., -60., -59., -59.], dtype=float32)\n",
      " array([ 2420.,  2420.,  2420., ...,   505.,   520.,   536.], dtype=float32)\n",
      " array([-103., -101.,  -98., ...,   15.,   18.,   20.], dtype=float32)\n",
      " array([-462., -619., -775., ..., -141., -133., -128.], dtype=float32)\n",
      " array([-36., -38., -40., ...,  81.,  80.,  69.], dtype=float32)\n",
      " array([ -479.,  -478.,  -477., ...,  2031.,  2025.,  2020.], dtype=float32)\n",
      " array([-106., -103., -100., ...,    0.,    0.,    0.], dtype=float32)\n",
      " array([-1957., -2100., -2222., ..., -1907., -1993., -1809.], dtype=float32)\n",
      " array([-3811., -3707., -3608., ...,  5828.,  5660.,  5491.], dtype=float32)\n",
      " array([  0.,   0.,   0., ...,  27.,  27.,  27.], dtype=float32)\n",
      " array([ 331.,  199.,   67., ...,  161.,  154.,  147.], dtype=float32)\n",
      " array([ 1681.,  1724.,  1765., ..., -2407., -2462., -2511.], dtype=float32)\n",
      " array([-23., -23., -24., ...,  -2.,  -2.,  -2.], dtype=float32)\n",
      " array([-20., -20., -20., ...,  -9., -10., -10.], dtype=float32)\n",
      " array([  340.,   325.,   307., ..., -1183., -1124., -1066.], dtype=float32)\n",
      " array([ 27.,  30.,  34., ...,  17.,  17.,  17.], dtype=float32)\n",
      " array([ 181.,  185.,  188., ..., -323., -320., -319.], dtype=float32)\n",
      " array([-14., -13., -12., ...,   6.,   6.,   6.], dtype=float32)\n",
      " array([  0.,   0.,   0., ...,  41.,  44.,  45.], dtype=float32)\n",
      " array([   0.,    0.,    0., ...,  108.,  104.,   99.], dtype=float32)\n",
      " array([-722., -642., -473., ..., -155., -143., -266.], dtype=float32)\n",
      " array([ 2571.,  2616.,  2658., ...,     9.,     8.,     6.], dtype=float32)\n",
      " array([ 4469.,  4317.,  4153., ...,   -63.,   -62.,   -62.], dtype=float32)\n",
      " array([  4.,   3.,   3., ...,  19.,  18.,  18.], dtype=float32)\n",
      " array([-330., -337., -345., ...,  -19.,  -23.,  -28.], dtype=float32)\n",
      " array([ 0.,  0.,  0., ...,  0.,  0.,  0.], dtype=float32)\n",
      " array([-137., -136., -135., ...,   45.,   45.,   44.], dtype=float32)\n",
      " array([ 158.,  151.,  144., ..., -252., -250., -247.], dtype=float32)\n",
      " array([ 50.,  47.,  45., ..., -52., -52., -51.], dtype=float32)\n",
      " array([ -23.,  -21.,  -20., ...,  191.,  190.,  189.], dtype=float32)\n",
      " array([ 4.,  4.,  4., ..., -3., -3., -3.], dtype=float32)\n",
      " array([ 1.,  1.,  1., ...,  0.,  0.,  0.], dtype=float32)\n",
      " array([ 3.,  3.,  3., ...,  0.,  0.,  0.], dtype=float32)\n",
      " array([-254., -237., -219., ...,   -9.,   -9.,   -9.], dtype=float32)\n",
      " array([ 144.,  150.,  154., ...,  103.,  102.,  102.], dtype=float32)\n",
      " array([  12.,   12.,   12., ...,  117.,  117.,  117.], dtype=float32)\n",
      " array([ 0.,  0.,  0., ...,  0.,  0.,  0.], dtype=float32)\n",
      " array([ 333.,  325.,  317., ...,  444.,  441.,  437.], dtype=float32)\n",
      " array([ -21.,  -19.,  -18., ...,  140.,  137.,  134.], dtype=float32)\n",
      " array([ -1.00000000e+00,  -1.00000000e+00,  -1.00000000e+00, ...,\n",
      "        -1.53000000e+03,  -1.53300000e+03,  -1.53500000e+03], dtype=float32)\n",
      " array([ -270.,  -256.,  -242., ...,  6099.,  6072.,  6041.], dtype=float32)\n",
      " array([ 255.,  226.,  198., ..., -481., -479., -478.], dtype=float32)\n",
      " array([ -56.,  -53.,  -51., ..., -147., -148., -149.], dtype=float32)\n",
      " array([-103., -103., -103., ...,    0.,    0.,    0.], dtype=float32)\n",
      " array([ 1611.,  1608.,  1605., ...,   599.,   600.,   601.], dtype=float32)\n",
      " array([-1574., -1567., -1559., ..., -1897., -1888., -1878.], dtype=float32)\n",
      " array([-109., -108., -107., ...,  -16.,  -20.,  -24.], dtype=float32)\n",
      " array([  268.,   265.,   261., ...,  2122.,  2129.,  2136.], dtype=float32)\n",
      " array([ 4361.,  4356.,  4351., ...,  1018.,  1004.,   990.], dtype=float32)\n",
      " array([ -21.,  -19.,  -18., ...,  140.,  137.,  134.], dtype=float32)\n",
      " array([ 91.,  93.,  95., ..., -22., -16., -11.], dtype=float32)\n",
      " array([  35.,   35.,   34., ...,  320.,  319.,  317.], dtype=float32)\n",
      " array([-54., -56., -56., ...,  49.,  49.,  48.], dtype=float32)\n",
      " array([-113., -113., -113., ..., -323., -325., -327.], dtype=float32)\n",
      " array([ 1544.,  1557.,  1569., ...,  1085.,  1101.,  1116.], dtype=float32)\n",
      " array([  605.,   604.,   602., ...,  2052.,  2141.,  2229.], dtype=float32)\n",
      " array([-2351., -2364., -2374., ...,   302.,   302.,   302.], dtype=float32)\n",
      " array([ 1759.,  1832.,  1907., ...,  -783.,  -765.,  -747.], dtype=float32)\n",
      " array([ 287.,  289.,  290., ..., -155., -151., -148.], dtype=float32)\n",
      " array([-3576., -3468., -3354., ..., -3988., -3940., -3889.], dtype=float32)\n",
      " array([ -305.,  -307.,  -309., ...,  2544.,  2533.,  2520.], dtype=float32)\n",
      " array([-972., -971., -969., ...,   98.,   98.,   98.], dtype=float32)\n",
      " array([-2360., -2363., -2365., ...,  1280.,  1281.,  1282.], dtype=float32)\n",
      " array([-290., -290., -289., ...,  568.,  578.,  588.], dtype=float32)\n",
      " array([ -390.,  -390.,  -389., ..., -1121., -1117., -1113.], dtype=float32)\n",
      " array([-1221., -1222., -1223., ...,   430.,   429.,   427.], dtype=float32)\n",
      " array([-374., -376., -378., ...,   55.,   55.,   55.], dtype=float32)\n",
      " array([-8319., -8316., -8306., ..., -1297., -1295., -1293.], dtype=float32)\n",
      " array([-1327., -1324., -1320., ...,   280.,   279.,   278.], dtype=float32)\n",
      " array([  -51.,   -52.,   -52., ..., -5699., -5688., -5676.], dtype=float32)\n",
      " array([ -786.,  -789.,  -792., ..., -1012., -1012., -1010.], dtype=float32)\n",
      " array([ 5097.,  5089.,  5078., ...,  1615.,  1615.,  1615.], dtype=float32)\n",
      " array([-7550., -7544., -7532., ..., -1519., -1503., -1486.], dtype=float32)\n",
      " array([  320.,   323.,   326., ...,  1794.,  1781.,  1767.], dtype=float32)\n",
      " array([-4828., -4829., -4827., ...,   371.,   370.,   370.], dtype=float32)\n",
      " array([  363.,   361.,   358., ...,  5036.,  5026.,  5016.], dtype=float32)\n",
      " array([-12., -13., -13., ..., -25., -24., -24.], dtype=float32)\n",
      " array([ 1396.,  1395.,  1395., ..., -1776., -1803., -1830.], dtype=float32)\n",
      " array([ -41.,  -43.,  -45., ...,  117.,  116.,  115.], dtype=float32)\n",
      " array([   8.,   11.,   14., ...,  376.,  378.,  380.], dtype=float32)\n",
      " array([-1., -1., -1., ...,  2.,  2.,  2.], dtype=float32)\n",
      " array([-469., -466., -463., ...,   32.,   32.,   32.], dtype=float32)\n",
      " array([ -3.,  -3.,  -4., ...,  14.,  14.,  14.], dtype=float32)\n",
      " array([ 20.,  20.,  20., ...,   6.,   6.,   6.], dtype=float32)\n",
      " array([    0.,     0.,     0., ...,  1630.,  1637.,  1644.], dtype=float32)\n",
      " array([-1., -1., -1., ..., -5., -6., -6.], dtype=float32)\n",
      " array([  0.,   0.,   0., ...,  20.,  20.,  20.], dtype=float32)\n",
      " array([   2.,    2.,    1., ..., -226., -231., -235.], dtype=float32)\n",
      " array([ 25.,  27.,  28., ...,  17.,  17.,  17.], dtype=float32)\n",
      " array([-35., -34., -33., ...,   5.,   5.,   5.], dtype=float32)\n",
      " array([ 0.,  0.,  0., ..., -2., -1., -1.], dtype=float32)\n",
      " array([-45., -46., -48., ...,   3.,  13.,  23.], dtype=float32)\n",
      " array([ 60.,  59.,  58., ...,  -7.,  -7.,  -8.], dtype=float32)\n",
      " array([ 462.,  470.,  479., ..., -106., -103.,  -99.], dtype=float32)\n",
      " array([ 146.,  146.,  147., ...,  207.,  216.,  224.], dtype=float32)\n",
      " array([-1448., -1452., -1456., ...,   302.,   304.,   306.], dtype=float32)\n",
      " array([ 45.,  43.,  42., ...,   0.,   0.,   0.], dtype=float32)\n",
      " array([-7839., -7476., -7110., ..., -1140., -1134., -1128.], dtype=float32)\n",
      " array([ 21.,  23.,  26., ...,   9.,   9.,  10.], dtype=float32)\n",
      " array([ 1.,  1.,  0., ..., -2., -2., -2.], dtype=float32)\n",
      " array([-126., -131., -135., ...,  260.,  269.,  278.], dtype=float32)\n",
      " array([ 54.,  53.,  53., ...,  48.,  49.,  49.], dtype=float32)\n",
      " array([ 17.,  17.,  17., ...,  -1.,  -2.,  -3.], dtype=float32)\n",
      " array([ 304.,  304.,  304., ...,  204.,  202.,  199.], dtype=float32)\n",
      " array([ 549.,  550.,  550., ...,  -96.,  -94.,  -92.], dtype=float32)\n",
      " array([ 218.,  219.,  220., ...,  -10.,   -7.,   -4.], dtype=float32)\n",
      " array([  38.,   41.,   44., ...,  115.,  113.,  110.], dtype=float32)\n",
      " array([ 0.,  0.,  0., ...,  0.,  0.,  0.], dtype=float32)\n",
      " array([-109., -106., -104., ...,  910.,  912.,  915.], dtype=float32)\n",
      " array([-42., -43., -44., ...,  -8.,  -6.,  -5.], dtype=float32)\n",
      " array([-13., -13., -15., ..., -38., -39., -40.], dtype=float32)\n",
      " array([-2., -2., -2., ..., -1., -1., -1.], dtype=float32)\n",
      " array([ 0.,  0.,  0., ...,  0.,  0.,  0.], dtype=float32)\n",
      " array([ 34.,  33.,  32., ...,  55.,  65.,  74.], dtype=float32)\n",
      " array([ -2.05800000e+03,  -2.03700000e+03,  -2.01500000e+03, ...,\n",
      "        -3.00000000e+00,  -1.00000000e+00,  -1.00000000e+00], dtype=float32)\n",
      " array([-88., -92., -96., ...,   9.,   7.,   6.], dtype=float32)\n",
      " array([-23., -23., -22., ...,  -3.,  -3.,  -2.], dtype=float32)\n",
      " array([ 502.,  508.,  514., ...,  373.,  373.,  372.], dtype=float32)\n",
      " array([ -3.,  -5.,  -6., ..., -42., -37., -32.], dtype=float32)\n",
      " array([ 22.,  22.,  22., ...,   0.,   0.,   0.], dtype=float32)\n",
      " array([ 5.,  6.,  6., ...,  0.,  0., -1.], dtype=float32)\n",
      " array([-5., -5., -5., ..., -1., -1., -1.], dtype=float32)\n",
      " array([-1027., -1036., -1044., ...,    87.,    85.,    83.], dtype=float32)\n",
      " array([-135., -139., -143., ...,   -2.,   -2.,   -2.], dtype=float32)\n",
      " array([ 40.,  37.,  34., ...,  12.,  12.,  12.], dtype=float32)\n",
      " array([ 217.,  218.,  218., ..., -230., -228., -225.], dtype=float32)\n",
      " array([ 1.,  1.,  0., ...,  3.,  4.,  4.], dtype=float32)\n",
      " array([ 636.,  662.,  688., ...,   -5.,   -8.,  -10.], dtype=float32)\n",
      " array([ 60.,  57.,  53., ...,  21.,  20.,  20.], dtype=float32)\n",
      " array([ -12.,  -13.,  -15., ..., -220., -219., -219.], dtype=float32)\n",
      " array([ 1120.,  1132.,  1141., ...,    -7.,    -7.,    -6.], dtype=float32)\n",
      " array([ 109.,   49.,  -13., ...,   37.,   38.,   40.], dtype=float32)\n",
      " array([  0.,   0.,   0., ..., -10.,  -9.,  -8.], dtype=float32)\n",
      " array([  -1.,   -2.,   -2., ...,  287.,  280.,  272.], dtype=float32)\n",
      " array([-53., -38., -26., ...,  76.,  72.,  75.], dtype=float32)\n",
      " array([-50., -50., -50., ...,  20.,  18.,  17.], dtype=float32)\n",
      " array([ -1.,  -1.,  -1., ...,  48.,  46.,  44.], dtype=float32)\n",
      " array([-135., -151., -168., ...,  171.,  169.,  167.], dtype=float32)\n",
      " array([ 0.,  0.,  0., ...,  0.,  0.,  0.], dtype=float32)\n",
      " array([-202., -204., -205., ..., -302., -295., -288.], dtype=float32)\n",
      " array([  61.,  105.,  133., ...,   23.,   24.,   23.], dtype=float32)\n",
      " array([    0.,     0.,     0., ...,  1272.,  1411.,  1547.], dtype=float32)\n",
      " array([ 1397.,  1388.,  1374., ...,  1578.,  1531.,  1479.], dtype=float32)\n",
      " array([ 11.,  11.,  11., ...,  25.,  26.,  29.], dtype=float32)\n",
      " array([-336., -335., -334., ...,    7.,    7.,    7.], dtype=float32)\n",
      " array([   0.,    0.,    0., ...,  159.,  134.,  108.], dtype=float32)\n",
      " array([-510., -511., -513., ...,   27.,   26.,   25.], dtype=float32)\n",
      " array([ 469.,  467.,  464., ...,  -49.,  -46.,  -44.], dtype=float32)\n",
      " array([ 314.,  314.,  314., ..., -165., -161., -158.], dtype=float32)\n",
      " array([-103., -101.,  -98., ..., -209., -206., -203.], dtype=float32)\n",
      " array([  44.,   50.,   57., ..., -162., -160., -159.], dtype=float32)\n",
      " array([-456., -455., -454., ..., -166., -166., -166.], dtype=float32)\n",
      " array([ 1017.,  1017.,  1017., ...,  1075.,  1002.,   928.], dtype=float32)\n",
      " array([-326., -329., -331., ..., -307., -307., -307.], dtype=float32)\n",
      " array([ -68.,  -66.,  -64., ..., -825., -827., -829.], dtype=float32)\n",
      " array([-11139., -11074., -10999., ...,    196.,    196.,    196.], dtype=float32)\n",
      " array([ 333.,  334.,  334., ..., -256., -269., -282.], dtype=float32)\n",
      " array([ -908.,  -911.,  -914., ...,  1852.,  1857.,  1861.], dtype=float32)\n",
      " array([ 613.,  610.,  607., ...,  141.,  147.,  152.], dtype=float32)]\n"
     ]
    }
   ],
   "source": [
    "df = pd.read_csv(INPUT_LIB + 'set_a.csv')\n",
    "df['fname'] = df['fname'].apply(clean_filename, string='Aunlabelledtest')\n",
    "df['label'].fillna('unclassified')\n",
    "# Load wav file in /clean_a, wav file that undergo lowpass filter\n",
    "df['time_series'] = df['fname'].apply(load_wav_file, path=INPUT_LIB + 'Clean_data/')    \n",
    "df['len_series'] = df['time_series'].apply(len)\n",
    "MAX_LEN = max(df['len_series'])\n",
    "df['time_series'] = df['time_series'].apply(repeat_to_length, length=MAX_LEN)\n",
    "\n",
    "print(df['time_series'].values)"
   ]
  },
  {
   "cell_type": "markdown",
   "metadata": {},
   "source": [
    "## Split into training and testing sets"
   ]
  },
  {
   "cell_type": "code",
   "execution_count": 5,
   "metadata": {
    "collapsed": true
   },
   "outputs": [],
   "source": [
    "x_data = np.stack(df['time_series'].values, axis=0)"
   ]
  },
  {
   "cell_type": "code",
   "execution_count": 6,
   "metadata": {},
   "outputs": [
    {
     "name": "stdout",
     "output_type": "stream",
     "text": [
      "[0, 0, 0, 0, 0, 0, 0, 0, 0, 0, 0, 0, 0, 0, 0, 0, 0, 0, 0, 0, 0, 0, 0, 0, 0, 0, 0, 0, 0, 0, 0, 0, 0, 0, 0, 0, 0, 0, 0, 0, 1, 1, 1, 1, 1, 1, 1, 1, 1, 1, 1, 1, 1, 1, 1, 1, 1, 1, 1, 2, 2, 2, 2, 2, 2, 2, 2, 2, 2, 2, 2, 2, 2, 2, 2, 2, 2, 2, 2, 2, 2, 2, 2, 2, 2, 2, 2, 2, 2, 2, 2, 2, 2, 4, 4, 4, 4, 4, 4, 4, 4, 4, 4, 4, 4, 4, 4, 4, 4, 4, 4, 4, 4, 4, 4, 4, 4, 4, 4, 4, 4, 4, 4, 4]\n",
      "124\n"
     ]
    }
   ],
   "source": [
    "from sklearn import preprocessing\n",
    "# Create a label (category) encoder object\n",
    "le = preprocessing.LabelEncoder()\n",
    "# Fit the encoder to the pandas column\n",
    "\n",
    "\n",
    "labels = df['label'].tolist()\n",
    "le.fit(labels)\n",
    "labels = le.transform(labels)\n",
    "labels = labels.tolist()\n",
    "#print(labels)\n",
    "\n",
    "# 0 = 'artifact'\n",
    "# 1 = 'extrahls'\n",
    "# 2 = 'murmur'\n",
    "# 4 = 'normal'\n",
    "# 3 = 'unclassified'\n",
    "\n",
    "nx_data = []\n",
    "new_labels = []\n",
    "labels = np.array(labels, dtype='int')\n",
    "for i in range(len(labels)):\n",
    "    if labels[i] != 3:\n",
    "        new_labels.append(labels[i])\n",
    "        nx_data.append(x_data[i])\n",
    "print(new_labels)\n",
    "print(len(new_labels))      "
   ]
  },
  {
   "cell_type": "code",
   "execution_count": 7,
   "metadata": {},
   "outputs": [
    {
     "name": "stdout",
     "output_type": "stream",
     "text": [
      "x_train, x_test, y_train and y_test are generated!\n"
     ]
    }
   ],
   "source": [
    "from sklearn.model_selection import train_test_split\n",
    "\n",
    "x_train, x_test, y_train, y_test=train_test_split(nx_data, new_labels, test_size=0.25, stratify=new_labels)\n",
    "print('x_train, x_test, y_train and y_test are generated!')"
   ]
  },
  {
   "cell_type": "markdown",
   "metadata": {},
   "source": [
    "## Random Forest Model: Adjust hyperparameters by GridSearchCV"
   ]
  },
  {
   "cell_type": "code",
   "execution_count": 128,
   "metadata": {
    "collapsed": true
   },
   "outputs": [],
   "source": [
    "from sklearn.model_selection import GridSearchCV"
   ]
  },
  {
   "cell_type": "code",
   "execution_count": 153,
   "metadata": {
    "collapsed": true
   },
   "outputs": [],
   "source": [
    "from keras.utils import np_utils\n",
    "y_data = np_utils.to_categorical(new_labels)\n",
    "x_train, x_test, y_train, y_test=train_test_split(nx_data, y_data, test_size=0.25, stratify=y_data)"
   ]
  },
  {
   "cell_type": "code",
   "execution_count": 156,
   "metadata": {},
   "outputs": [
    {
     "name": "stdout",
     "output_type": "stream",
     "text": [
      "Fitting 10 folds for each of 6 candidates, totalling 60 fits\n",
      "[CV] max_features=600, n_estimators=500 ..............................\n",
      "[CV]  max_features=600, n_estimators=500, score=0.500000, total=   9.6s\n",
      "[CV] max_features=600, n_estimators=500 ..............................\n"
     ]
    },
    {
     "name": "stderr",
     "output_type": "stream",
     "text": [
      "[Parallel(n_jobs=1)]: Done   1 out of   1 | elapsed:    9.8s remaining:    0.0s\n"
     ]
    },
    {
     "name": "stdout",
     "output_type": "stream",
     "text": [
      "[CV]  max_features=600, n_estimators=500, score=0.600000, total=   8.7s\n",
      "[CV] max_features=600, n_estimators=500 ..............................\n"
     ]
    },
    {
     "name": "stderr",
     "output_type": "stream",
     "text": [
      "[Parallel(n_jobs=1)]: Done   2 out of   2 | elapsed:   18.7s remaining:    0.0s\n"
     ]
    },
    {
     "name": "stdout",
     "output_type": "stream",
     "text": [
      "[CV]  max_features=600, n_estimators=500, score=0.500000, total=   7.5s\n",
      "[CV] max_features=600, n_estimators=500 ..............................\n"
     ]
    },
    {
     "name": "stderr",
     "output_type": "stream",
     "text": [
      "[Parallel(n_jobs=1)]: Done   3 out of   3 | elapsed:   26.3s remaining:    0.0s\n"
     ]
    },
    {
     "name": "stdout",
     "output_type": "stream",
     "text": [
      "[CV]  max_features=600, n_estimators=500, score=0.333333, total=   7.2s\n",
      "[CV] max_features=600, n_estimators=500 ..............................\n"
     ]
    },
    {
     "name": "stderr",
     "output_type": "stream",
     "text": [
      "[Parallel(n_jobs=1)]: Done   4 out of   4 | elapsed:   33.7s remaining:    0.0s\n"
     ]
    },
    {
     "name": "stdout",
     "output_type": "stream",
     "text": [
      "[CV]  max_features=600, n_estimators=500, score=0.777778, total=   7.0s\n",
      "[CV] max_features=600, n_estimators=500 ..............................\n"
     ]
    },
    {
     "name": "stderr",
     "output_type": "stream",
     "text": [
      "[Parallel(n_jobs=1)]: Done   5 out of   5 | elapsed:   40.9s remaining:    0.0s\n"
     ]
    },
    {
     "name": "stdout",
     "output_type": "stream",
     "text": [
      "[CV]  max_features=600, n_estimators=500, score=0.444444, total=   6.6s\n",
      "[CV] max_features=600, n_estimators=500 ..............................\n"
     ]
    },
    {
     "name": "stderr",
     "output_type": "stream",
     "text": [
      "[Parallel(n_jobs=1)]: Done   6 out of   6 | elapsed:   47.6s remaining:    0.0s\n"
     ]
    },
    {
     "name": "stdout",
     "output_type": "stream",
     "text": [
      "[CV]  max_features=600, n_estimators=500, score=0.777778, total=   7.0s\n",
      "[CV] max_features=600, n_estimators=500 ..............................\n"
     ]
    },
    {
     "name": "stderr",
     "output_type": "stream",
     "text": [
      "[Parallel(n_jobs=1)]: Done   7 out of   7 | elapsed:   54.7s remaining:    0.0s\n"
     ]
    },
    {
     "name": "stdout",
     "output_type": "stream",
     "text": [
      "[CV]  max_features=600, n_estimators=500, score=0.222222, total=   6.7s\n",
      "[CV] max_features=600, n_estimators=500 ..............................\n"
     ]
    },
    {
     "name": "stderr",
     "output_type": "stream",
     "text": [
      "[Parallel(n_jobs=1)]: Done   8 out of   8 | elapsed:  1.0min remaining:    0.0s\n"
     ]
    },
    {
     "name": "stdout",
     "output_type": "stream",
     "text": [
      "[CV]  max_features=600, n_estimators=500, score=0.555556, total=   6.6s\n",
      "[CV] max_features=600, n_estimators=500 ..............................\n"
     ]
    },
    {
     "name": "stderr",
     "output_type": "stream",
     "text": [
      "[Parallel(n_jobs=1)]: Done   9 out of   9 | elapsed:  1.1min remaining:    0.0s\n"
     ]
    },
    {
     "name": "stdout",
     "output_type": "stream",
     "text": [
      "[CV]  max_features=600, n_estimators=500, score=0.222222, total=   6.4s\n",
      "[CV] max_features=600, n_estimators=1000 .............................\n"
     ]
    },
    {
     "name": "stderr",
     "output_type": "stream",
     "text": [
      "[Parallel(n_jobs=1)]: Done  10 out of  10 | elapsed:  1.2min remaining:    0.0s\n"
     ]
    },
    {
     "name": "stdout",
     "output_type": "stream",
     "text": [
      "[CV]  max_features=600, n_estimators=1000, score=0.500000, total=  13.0s\n",
      "[CV] max_features=600, n_estimators=1000 .............................\n"
     ]
    },
    {
     "name": "stderr",
     "output_type": "stream",
     "text": [
      "[Parallel(n_jobs=1)]: Done  11 out of  11 | elapsed:  1.5min remaining:    0.0s\n"
     ]
    },
    {
     "name": "stdout",
     "output_type": "stream",
     "text": [
      "[CV]  max_features=600, n_estimators=1000, score=0.600000, total=  12.9s\n",
      "[CV] max_features=600, n_estimators=1000 .............................\n"
     ]
    },
    {
     "name": "stderr",
     "output_type": "stream",
     "text": [
      "[Parallel(n_jobs=1)]: Done  12 out of  12 | elapsed:  1.7min remaining:    0.0s\n"
     ]
    },
    {
     "name": "stdout",
     "output_type": "stream",
     "text": [
      "[CV]  max_features=600, n_estimators=1000, score=0.500000, total=  12.9s\n",
      "[CV] max_features=600, n_estimators=1000 .............................\n"
     ]
    },
    {
     "name": "stderr",
     "output_type": "stream",
     "text": [
      "[Parallel(n_jobs=1)]: Done  13 out of  13 | elapsed:  1.9min remaining:    0.0s\n"
     ]
    },
    {
     "name": "stdout",
     "output_type": "stream",
     "text": [
      "[CV]  max_features=600, n_estimators=1000, score=0.333333, total=  14.2s\n",
      "[CV] max_features=600, n_estimators=1000 .............................\n"
     ]
    },
    {
     "name": "stderr",
     "output_type": "stream",
     "text": [
      "[Parallel(n_jobs=1)]: Done  14 out of  14 | elapsed:  2.1min remaining:    0.0s\n"
     ]
    },
    {
     "name": "stdout",
     "output_type": "stream",
     "text": [
      "[CV]  max_features=600, n_estimators=1000, score=0.777778, total=  13.8s\n",
      "[CV] max_features=600, n_estimators=1000 .............................\n"
     ]
    },
    {
     "name": "stderr",
     "output_type": "stream",
     "text": [
      "[Parallel(n_jobs=1)]: Done  15 out of  15 | elapsed:  2.4min remaining:    0.0s\n"
     ]
    },
    {
     "name": "stdout",
     "output_type": "stream",
     "text": [
      "[CV]  max_features=600, n_estimators=1000, score=0.444444, total=  13.6s\n",
      "[CV] max_features=600, n_estimators=1000 .............................\n"
     ]
    },
    {
     "name": "stderr",
     "output_type": "stream",
     "text": [
      "[Parallel(n_jobs=1)]: Done  16 out of  16 | elapsed:  2.6min remaining:    0.0s\n"
     ]
    },
    {
     "name": "stdout",
     "output_type": "stream",
     "text": [
      "[CV]  max_features=600, n_estimators=1000, score=0.888889, total=  14.9s\n",
      "[CV] max_features=600, n_estimators=1000 .............................\n"
     ]
    },
    {
     "name": "stderr",
     "output_type": "stream",
     "text": [
      "[Parallel(n_jobs=1)]: Done  17 out of  17 | elapsed:  2.9min remaining:    0.0s\n"
     ]
    },
    {
     "name": "stdout",
     "output_type": "stream",
     "text": [
      "[CV]  max_features=600, n_estimators=1000, score=0.333333, total=  14.6s\n",
      "[CV] max_features=600, n_estimators=1000 .............................\n"
     ]
    },
    {
     "name": "stderr",
     "output_type": "stream",
     "text": [
      "[Parallel(n_jobs=1)]: Done  18 out of  18 | elapsed:  3.1min remaining:    0.0s\n"
     ]
    },
    {
     "name": "stdout",
     "output_type": "stream",
     "text": [
      "[CV]  max_features=600, n_estimators=1000, score=0.555556, total=  18.5s\n",
      "[CV] max_features=600, n_estimators=1000 .............................\n"
     ]
    },
    {
     "name": "stderr",
     "output_type": "stream",
     "text": [
      "[Parallel(n_jobs=1)]: Done  19 out of  19 | elapsed:  3.4min remaining:    0.0s\n"
     ]
    },
    {
     "name": "stdout",
     "output_type": "stream",
     "text": [
      "[CV]  max_features=600, n_estimators=1000, score=0.222222, total=  13.9s\n",
      "[CV] max_features=600, n_estimators=2000 .............................\n",
      "[CV]  max_features=600, n_estimators=2000, score=0.500000, total=  26.9s\n",
      "[CV] max_features=600, n_estimators=2000 .............................\n",
      "[CV]  max_features=600, n_estimators=2000, score=0.500000, total=  24.8s\n",
      "[CV] max_features=600, n_estimators=2000 .............................\n",
      "[CV]  max_features=600, n_estimators=2000, score=0.500000, total=  24.3s\n",
      "[CV] max_features=600, n_estimators=2000 .............................\n",
      "[CV]  max_features=600, n_estimators=2000, score=0.333333, total=  24.9s\n",
      "[CV] max_features=600, n_estimators=2000 .............................\n",
      "[CV]  max_features=600, n_estimators=2000, score=0.777778, total=  25.6s\n",
      "[CV] max_features=600, n_estimators=2000 .............................\n",
      "[CV]  max_features=600, n_estimators=2000, score=0.444444, total=  24.3s\n",
      "[CV] max_features=600, n_estimators=2000 .............................\n",
      "[CV]  max_features=600, n_estimators=2000, score=0.777778, total=  25.1s\n",
      "[CV] max_features=600, n_estimators=2000 .............................\n",
      "[CV]  max_features=600, n_estimators=2000, score=0.333333, total=  27.9s\n",
      "[CV] max_features=600, n_estimators=2000 .............................\n",
      "[CV]  max_features=600, n_estimators=2000, score=0.555556, total=  24.9s\n",
      "[CV] max_features=600, n_estimators=2000 .............................\n",
      "[CV]  max_features=600, n_estimators=2000, score=0.222222, total=  24.7s\n",
      "[CV] max_features=650, n_estimators=500 ..............................\n",
      "[CV]  max_features=650, n_estimators=500, score=0.500000, total=   7.9s\n",
      "[CV] max_features=650, n_estimators=500 ..............................\n",
      "[CV]  max_features=650, n_estimators=500, score=0.600000, total=   6.8s\n",
      "[CV] max_features=650, n_estimators=500 ..............................\n",
      "[CV]  max_features=650, n_estimators=500, score=0.500000, total=   6.8s\n",
      "[CV] max_features=650, n_estimators=500 ..............................\n",
      "[CV]  max_features=650, n_estimators=500, score=0.333333, total=   6.9s\n",
      "[CV] max_features=650, n_estimators=500 ..............................\n",
      "[CV]  max_features=650, n_estimators=500, score=0.777778, total=   8.0s\n",
      "[CV] max_features=650, n_estimators=500 ..............................\n",
      "[CV]  max_features=650, n_estimators=500, score=0.444444, total=   6.8s\n",
      "[CV] max_features=650, n_estimators=500 ..............................\n",
      "[CV]  max_features=650, n_estimators=500, score=0.777778, total=   7.1s\n",
      "[CV] max_features=650, n_estimators=500 ..............................\n",
      "[CV]  max_features=650, n_estimators=500, score=0.333333, total=   6.7s\n",
      "[CV] max_features=650, n_estimators=500 ..............................\n",
      "[CV]  max_features=650, n_estimators=500, score=0.555556, total=   6.7s\n",
      "[CV] max_features=650, n_estimators=500 ..............................\n",
      "[CV]  max_features=650, n_estimators=500, score=0.333333, total=   6.5s\n",
      "[CV] max_features=650, n_estimators=1000 .............................\n",
      "[CV]  max_features=650, n_estimators=1000, score=0.500000, total=  13.2s\n",
      "[CV] max_features=650, n_estimators=1000 .............................\n",
      "[CV]  max_features=650, n_estimators=1000, score=0.500000, total=  13.1s\n",
      "[CV] max_features=650, n_estimators=1000 .............................\n",
      "[CV]  max_features=650, n_estimators=1000, score=0.500000, total=  13.1s\n",
      "[CV] max_features=650, n_estimators=1000 .............................\n",
      "[CV]  max_features=650, n_estimators=1000, score=0.333333, total=  13.0s\n",
      "[CV] max_features=650, n_estimators=1000 .............................\n",
      "[CV]  max_features=650, n_estimators=1000, score=0.777778, total=  13.5s\n",
      "[CV] max_features=650, n_estimators=1000 .............................\n",
      "[CV]  max_features=650, n_estimators=1000, score=0.444444, total=  13.4s\n",
      "[CV] max_features=650, n_estimators=1000 .............................\n",
      "[CV]  max_features=650, n_estimators=1000, score=0.777778, total=  13.7s\n",
      "[CV] max_features=650, n_estimators=1000 .............................\n",
      "[CV]  max_features=650, n_estimators=1000, score=0.222222, total=  12.9s\n",
      "[CV] max_features=650, n_estimators=1000 .............................\n",
      "[CV]  max_features=650, n_estimators=1000, score=0.555556, total=  13.3s\n",
      "[CV] max_features=650, n_estimators=1000 .............................\n",
      "[CV]  max_features=650, n_estimators=1000, score=0.222222, total=  13.0s\n",
      "[CV] max_features=650, n_estimators=2000 .............................\n",
      "[CV]  max_features=650, n_estimators=2000, score=0.500000, total=  26.2s\n",
      "[CV] max_features=650, n_estimators=2000 .............................\n",
      "[CV]  max_features=650, n_estimators=2000, score=0.600000, total=  26.7s\n",
      "[CV] max_features=650, n_estimators=2000 .............................\n",
      "[CV]  max_features=650, n_estimators=2000, score=0.500000, total=  25.7s\n",
      "[CV] max_features=650, n_estimators=2000 .............................\n",
      "[CV]  max_features=650, n_estimators=2000, score=0.333333, total=  25.9s\n",
      "[CV] max_features=650, n_estimators=2000 .............................\n",
      "[CV]  max_features=650, n_estimators=2000, score=0.777778, total=  26.9s\n",
      "[CV] max_features=650, n_estimators=2000 .............................\n",
      "[CV]  max_features=650, n_estimators=2000, score=0.444444, total=  26.0s\n",
      "[CV] max_features=650, n_estimators=2000 .............................\n",
      "[CV]  max_features=650, n_estimators=2000, score=0.777778, total=  26.8s\n",
      "[CV] max_features=650, n_estimators=2000 .............................\n",
      "[CV]  max_features=650, n_estimators=2000, score=0.333333, total=  26.1s\n",
      "[CV] max_features=650, n_estimators=2000 .............................\n",
      "[CV]  max_features=650, n_estimators=2000, score=0.555556, total=  27.1s\n",
      "[CV] max_features=650, n_estimators=2000 .............................\n",
      "[CV]  max_features=650, n_estimators=2000, score=0.222222, total=  30.0s\n"
     ]
    },
    {
     "name": "stderr",
     "output_type": "stream",
     "text": [
      "[Parallel(n_jobs=1)]: Done  60 out of  60 | elapsed: 15.9min finished\n"
     ]
    },
    {
     "data": {
      "text/plain": [
       "GridSearchCV(cv=10, error_score='raise',\n",
       "       estimator=RandomForestClassifier(bootstrap=True, class_weight=None, criterion='gini',\n",
       "            max_depth=None, max_features='auto', max_leaf_nodes=None,\n",
       "            min_impurity_split=1e-07, min_samples_leaf=1,\n",
       "            min_samples_split=2, min_weight_fraction_leaf=0.0,\n",
       "            n_estimators=10, n_jobs=1, oob_score=False, random_state=None,\n",
       "            verbose=0, warm_start=False),\n",
       "       fit_params={}, iid=True, n_jobs=1,\n",
       "       param_grid={'n_estimators': [500, 1000, 2000], 'max_features': [600, 650]},\n",
       "       pre_dispatch='2*n_jobs', refit=True, return_train_score=True,\n",
       "       scoring='accuracy', verbose=20)"
      ]
     },
     "execution_count": 156,
     "metadata": {},
     "output_type": "execute_result"
    }
   ],
   "source": [
    "# Process GridSearchCV\n",
    "param_grid = {'n_estimators': [500,1000,2000], 'max_features': [600,650]}\n",
    "rf = RandomForestClassifier()\n",
    "clf = GridSearchCV(estimator=rf, param_grid=param_grid, n_jobs=1, cv=10, verbose=20, scoring='accuracy')\n",
    "clf.fit(x_train, y_train)"
   ]
  },
  {
   "cell_type": "code",
   "execution_count": 162,
   "metadata": {},
   "outputs": [
    {
     "name": "stdout",
     "output_type": "stream",
     "text": [
      "The parameters of the best model are: \n",
      "{'max_features': 600, 'n_estimators': 1000}\n",
      "\n",
      "The classification report is: \n",
      "             precision    recall  f1-score   support\n",
      "\n",
      "          0       0.83      0.62      0.71         8\n",
      "          1       0.00      0.00      0.00         3\n",
      "          2       1.00      0.56      0.71         9\n",
      "          3       0.00      0.00      0.00         0\n",
      "          4       1.00      0.36      0.53        11\n",
      "\n",
      "avg / total       0.86      0.45      0.58        31\n",
      "\n"
     ]
    },
    {
     "name": "stderr",
     "output_type": "stream",
     "text": [
      "/Applications/anaconda/lib/python3.6/site-packages/sklearn/metrics/classification.py:1113: UndefinedMetricWarning: Precision and F-score are ill-defined and being set to 0.0 in labels with no predicted samples.\n",
      "  'precision', 'predicted', average, warn_for)\n",
      "/Applications/anaconda/lib/python3.6/site-packages/sklearn/metrics/classification.py:1115: UndefinedMetricWarning: Recall and F-score are ill-defined and being set to 0.0 in labels with no true samples.\n",
      "  'recall', 'true', average, warn_for)\n"
     ]
    }
   ],
   "source": [
    "# Print the result\n",
    "from sklearn.metrics import classification_report\n",
    "print('The parameters of the best model are: ')\n",
    "print(clf.best_params_)\n",
    "\n",
    "y_pred = clf.predict(x_test)\n",
    "print('\\nThe classification report is: ')\n",
    "print(classification_report(y_true=y_test, y_pred=y_pred))"
   ]
  },
  {
   "cell_type": "markdown",
   "metadata": {},
   "source": [
    "**Therefore, the best parameters are 1000 estimators and 600 max features.**"
   ]
  },
  {
   "cell_type": "markdown",
   "metadata": {},
   "source": [
    "## Random Forest Model 1: Use stratified dataset to run 10 times"
   ]
  },
  {
   "cell_type": "code",
   "execution_count": 12,
   "metadata": {
    "collapsed": true
   },
   "outputs": [],
   "source": [
    "from sklearn.ensemble import RandomForestClassifier\n",
    "from sklearn.metrics import confusion_matrix\n",
    "def rf(x_train, y_train, x_test, y_test):\n",
    "    # Create Random Forest object\n",
    "    model= RandomForestClassifier(n_estimators=1000)\n",
    "    # Train the model using the training sets and check score\n",
    "    model.fit(x_train, y_train)\n",
    "    #Predict Output\n",
    "    pred= model.predict(x_test)\n",
    "    # Apply model on testing sets\n",
    "    score = model.score(x_test, y_test)\n",
    "    print('FINISHED classifying. accuracy score :\\n', score)\n",
    "    # Create confusion matrix\n",
    "    cm = confusion_matrix(y_test, pred)\n",
    "    print(cm)  \n",
    "    FP = cm.sum(axis=0) - np.diag(cm)  \n",
    "    FN = cm.sum(axis=1) - np.diag(cm)\n",
    "    TP = np.diag(cm)\n",
    "    TN = cm.sum() - (FP + FN + TP)\n",
    "    # Sensitivity, hit rate, recall, or true positive rate\n",
    "    TPR = TP/(TP+FN)\n",
    "    # Specificity or true negative rate\n",
    "    TNR = TN/(TN+FP) \n",
    "    # Precision or positive predictive value\n",
    "    PPV = TP/(TP+FP)\n",
    "    # Negative predictive value\n",
    "    NPV = TN/(TN+FN)\n",
    "    # Fall out or false positive rate\n",
    "    FPR = FP/(FP+TN)\n",
    "    # False negative rate\n",
    "    FNR = FN/(TP+FN)\n",
    "    # False discovery rate\n",
    "    FDR = FP/(TP+FP)\n",
    "    return score, TPR, TNR\n",
    "    \n",
    "\n",
    "def n_rf(epoch=1):\n",
    "    acc = []\n",
    "    sensitivity = []\n",
    "    specificity = []\n",
    "    for i in range(1,epoch+1):\n",
    "        print('The %s classification result is:'%i)\n",
    "        score, TPR, TNR = rf(x_train, y_train, x_test, y_test)\n",
    "        acc.append(score)\n",
    "        sensitivity.append(TPR)\n",
    "        specificity.append(TNR)\n",
    "        print('\\n')\n",
    "    print('The average accuracy is:', sum(acc)/len(acc),'\\n')\n",
    "    print('The sensitivity rate is:', sum(sensitivity)/epoch, '\\n')\n",
    "    print('The specificity rate is:', sum(specificity)/epoch, '\\n')"
   ]
  },
  {
   "cell_type": "code",
   "execution_count": 13,
   "metadata": {
    "scrolled": true
   },
   "outputs": [
    {
     "name": "stdout",
     "output_type": "stream",
     "text": [
      "The 1 classification result is:\n",
      "FINISHED classifying. accuracy score :\n",
      " 0.387096774194\n",
      "[[6 0 4 0]\n",
      " [3 0 2 0]\n",
      " [0 0 6 2]\n",
      " [3 0 5 0]]\n",
      "\n",
      "\n",
      "The 2 classification result is:\n"
     ]
    },
    {
     "name": "stderr",
     "output_type": "stream",
     "text": [
      "/Applications/anaconda/lib/python3.6/site-packages/ipykernel_launcher.py:25: RuntimeWarning: invalid value encountered in true_divide\n",
      "/Applications/anaconda/lib/python3.6/site-packages/ipykernel_launcher.py:33: RuntimeWarning: invalid value encountered in true_divide\n"
     ]
    },
    {
     "name": "stdout",
     "output_type": "stream",
     "text": [
      "FINISHED classifying. accuracy score :\n",
      " 0.387096774194\n",
      "[[6 0 4 0]\n",
      " [3 0 2 0]\n",
      " [1 0 6 1]\n",
      " [3 0 5 0]]\n",
      "\n",
      "\n",
      "The 3 classification result is:\n"
     ]
    },
    {
     "name": "stderr",
     "output_type": "stream",
     "text": [
      "/Applications/anaconda/lib/python3.6/site-packages/ipykernel_launcher.py:25: RuntimeWarning: invalid value encountered in true_divide\n",
      "/Applications/anaconda/lib/python3.6/site-packages/ipykernel_launcher.py:33: RuntimeWarning: invalid value encountered in true_divide\n"
     ]
    },
    {
     "name": "stdout",
     "output_type": "stream",
     "text": [
      "FINISHED classifying. accuracy score :\n",
      " 0.387096774194\n",
      "[[6 0 4 0]\n",
      " [3 0 2 0]\n",
      " [1 0 6 1]\n",
      " [3 0 5 0]]\n",
      "\n",
      "\n",
      "The 4 classification result is:\n"
     ]
    },
    {
     "name": "stderr",
     "output_type": "stream",
     "text": [
      "/Applications/anaconda/lib/python3.6/site-packages/ipykernel_launcher.py:25: RuntimeWarning: invalid value encountered in true_divide\n",
      "/Applications/anaconda/lib/python3.6/site-packages/ipykernel_launcher.py:33: RuntimeWarning: invalid value encountered in true_divide\n"
     ]
    },
    {
     "name": "stdout",
     "output_type": "stream",
     "text": [
      "FINISHED classifying. accuracy score :\n",
      " 0.387096774194\n",
      "[[6 0 4 0]\n",
      " [3 0 2 0]\n",
      " [1 0 6 1]\n",
      " [3 0 5 0]]\n",
      "\n",
      "\n",
      "The 5 classification result is:\n"
     ]
    },
    {
     "name": "stderr",
     "output_type": "stream",
     "text": [
      "/Applications/anaconda/lib/python3.6/site-packages/ipykernel_launcher.py:25: RuntimeWarning: invalid value encountered in true_divide\n",
      "/Applications/anaconda/lib/python3.6/site-packages/ipykernel_launcher.py:33: RuntimeWarning: invalid value encountered in true_divide\n"
     ]
    },
    {
     "name": "stdout",
     "output_type": "stream",
     "text": [
      "FINISHED classifying. accuracy score :\n",
      " 0.387096774194\n",
      "[[6 0 4 0]\n",
      " [3 0 2 0]\n",
      " [2 0 6 0]\n",
      " [3 0 5 0]]\n",
      "\n",
      "\n",
      "The 6 classification result is:\n"
     ]
    },
    {
     "name": "stderr",
     "output_type": "stream",
     "text": [
      "/Applications/anaconda/lib/python3.6/site-packages/ipykernel_launcher.py:25: RuntimeWarning: invalid value encountered in true_divide\n",
      "/Applications/anaconda/lib/python3.6/site-packages/ipykernel_launcher.py:33: RuntimeWarning: invalid value encountered in true_divide\n"
     ]
    },
    {
     "name": "stdout",
     "output_type": "stream",
     "text": [
      "FINISHED classifying. accuracy score :\n",
      " 0.387096774194\n",
      "[[6 0 4 0]\n",
      " [2 0 2 1]\n",
      " [1 0 6 1]\n",
      " [3 0 5 0]]\n",
      "\n",
      "\n",
      "The 7 classification result is:\n"
     ]
    },
    {
     "name": "stderr",
     "output_type": "stream",
     "text": [
      "/Applications/anaconda/lib/python3.6/site-packages/ipykernel_launcher.py:25: RuntimeWarning: invalid value encountered in true_divide\n",
      "/Applications/anaconda/lib/python3.6/site-packages/ipykernel_launcher.py:33: RuntimeWarning: invalid value encountered in true_divide\n"
     ]
    },
    {
     "name": "stdout",
     "output_type": "stream",
     "text": [
      "FINISHED classifying. accuracy score :\n",
      " 0.354838709677\n",
      "[[5 0 4 1]\n",
      " [3 0 2 0]\n",
      " [1 0 6 1]\n",
      " [3 0 5 0]]\n",
      "\n",
      "\n",
      "The 8 classification result is:\n"
     ]
    },
    {
     "name": "stderr",
     "output_type": "stream",
     "text": [
      "/Applications/anaconda/lib/python3.6/site-packages/ipykernel_launcher.py:25: RuntimeWarning: invalid value encountered in true_divide\n",
      "/Applications/anaconda/lib/python3.6/site-packages/ipykernel_launcher.py:33: RuntimeWarning: invalid value encountered in true_divide\n"
     ]
    },
    {
     "name": "stdout",
     "output_type": "stream",
     "text": [
      "FINISHED classifying. accuracy score :\n",
      " 0.387096774194\n",
      "[[6 0 4 0]\n",
      " [1 0 2 2]\n",
      " [1 0 6 1]\n",
      " [3 0 5 0]]\n",
      "\n",
      "\n",
      "The 9 classification result is:\n"
     ]
    },
    {
     "name": "stderr",
     "output_type": "stream",
     "text": [
      "/Applications/anaconda/lib/python3.6/site-packages/ipykernel_launcher.py:25: RuntimeWarning: invalid value encountered in true_divide\n",
      "/Applications/anaconda/lib/python3.6/site-packages/ipykernel_launcher.py:33: RuntimeWarning: invalid value encountered in true_divide\n"
     ]
    },
    {
     "name": "stdout",
     "output_type": "stream",
     "text": [
      "FINISHED classifying. accuracy score :\n",
      " 0.387096774194\n",
      "[[6 0 4 0]\n",
      " [3 0 1 1]\n",
      " [1 0 6 1]\n",
      " [3 0 5 0]]\n",
      "\n",
      "\n",
      "The 10 classification result is:\n"
     ]
    },
    {
     "name": "stderr",
     "output_type": "stream",
     "text": [
      "/Applications/anaconda/lib/python3.6/site-packages/ipykernel_launcher.py:25: RuntimeWarning: invalid value encountered in true_divide\n",
      "/Applications/anaconda/lib/python3.6/site-packages/ipykernel_launcher.py:33: RuntimeWarning: invalid value encountered in true_divide\n"
     ]
    },
    {
     "name": "stdout",
     "output_type": "stream",
     "text": [
      "FINISHED classifying. accuracy score :\n",
      " 0.387096774194\n",
      "[[6 0 4 0]\n",
      " [0 0 3 2]\n",
      " [1 0 6 1]\n",
      " [3 0 5 0]]\n",
      "\n",
      "\n",
      "The average accuracy is: 0.383870967742 \n",
      "\n",
      "The sensitivity rate is: [ 0.59  0.    0.75  0.  ] \n",
      "\n",
      "The specificity rate is: [ 0.6952381   1.          0.52173913  0.92608696] \n",
      "\n"
     ]
    },
    {
     "name": "stderr",
     "output_type": "stream",
     "text": [
      "/Applications/anaconda/lib/python3.6/site-packages/ipykernel_launcher.py:25: RuntimeWarning: invalid value encountered in true_divide\n",
      "/Applications/anaconda/lib/python3.6/site-packages/ipykernel_launcher.py:33: RuntimeWarning: invalid value encountered in true_divide\n"
     ]
    }
   ],
   "source": [
    "n_rf(epoch = 10)"
   ]
  },
  {
   "cell_type": "code",
   "execution_count": 14,
   "metadata": {
    "scrolled": true
   },
   "outputs": [
    {
     "name": "stdout",
     "output_type": "stream",
     "text": [
      "The 1 classification result is:\n",
      "FINISHED classifying. accuracy score :\n",
      " 0.451612903226\n",
      "[[6 0 3 1]\n",
      " [5 0 0 0]\n",
      " [1 0 7 0]\n",
      " [5 0 2 1]]\n",
      "\n",
      "\n",
      "The 2 classification result is:\n"
     ]
    },
    {
     "name": "stderr",
     "output_type": "stream",
     "text": [
      "/Applications/anaconda/lib/python3.6/site-packages/ipykernel_launcher.py:25: RuntimeWarning: invalid value encountered in true_divide\n",
      "/Applications/anaconda/lib/python3.6/site-packages/ipykernel_launcher.py:33: RuntimeWarning: invalid value encountered in true_divide\n"
     ]
    },
    {
     "name": "stdout",
     "output_type": "stream",
     "text": [
      "FINISHED classifying. accuracy score :\n",
      " 0.451612903226\n",
      "[[6 0 2 2]\n",
      " [5 0 0 0]\n",
      " [1 0 7 0]\n",
      " [5 0 2 1]]\n",
      "\n",
      "\n",
      "The 3 classification result is:\n"
     ]
    },
    {
     "name": "stderr",
     "output_type": "stream",
     "text": [
      "/Applications/anaconda/lib/python3.6/site-packages/ipykernel_launcher.py:25: RuntimeWarning: invalid value encountered in true_divide\n",
      "/Applications/anaconda/lib/python3.6/site-packages/ipykernel_launcher.py:33: RuntimeWarning: invalid value encountered in true_divide\n"
     ]
    },
    {
     "name": "stdout",
     "output_type": "stream",
     "text": [
      "FINISHED classifying. accuracy score :\n",
      " 0.483870967742\n",
      "[[8 0 2 0]\n",
      " [5 0 0 0]\n",
      " [1 0 7 0]\n",
      " [6 0 2 0]]\n",
      "\n",
      "\n",
      "The 4 classification result is:\n"
     ]
    },
    {
     "name": "stderr",
     "output_type": "stream",
     "text": [
      "/Applications/anaconda/lib/python3.6/site-packages/ipykernel_launcher.py:25: RuntimeWarning: invalid value encountered in true_divide\n",
      "/Applications/anaconda/lib/python3.6/site-packages/ipykernel_launcher.py:33: RuntimeWarning: invalid value encountered in true_divide\n"
     ]
    },
    {
     "name": "stdout",
     "output_type": "stream",
     "text": [
      "FINISHED classifying. accuracy score :\n",
      " 0.516129032258\n",
      "[[7 0 3 0]\n",
      " [5 0 0 0]\n",
      " [1 0 7 0]\n",
      " [4 0 2 2]]\n",
      "\n",
      "\n",
      "The 5 classification result is:\n"
     ]
    },
    {
     "name": "stderr",
     "output_type": "stream",
     "text": [
      "/Applications/anaconda/lib/python3.6/site-packages/ipykernel_launcher.py:25: RuntimeWarning: invalid value encountered in true_divide\n",
      "/Applications/anaconda/lib/python3.6/site-packages/ipykernel_launcher.py:33: RuntimeWarning: invalid value encountered in true_divide\n"
     ]
    },
    {
     "name": "stdout",
     "output_type": "stream",
     "text": [
      "FINISHED classifying. accuracy score :\n",
      " 0.451612903226\n",
      "[[5 0 3 2]\n",
      " [5 0 0 0]\n",
      " [1 0 7 0]\n",
      " [4 0 2 2]]\n",
      "\n",
      "\n",
      "The 6 classification result is:\n"
     ]
    },
    {
     "name": "stderr",
     "output_type": "stream",
     "text": [
      "/Applications/anaconda/lib/python3.6/site-packages/ipykernel_launcher.py:25: RuntimeWarning: invalid value encountered in true_divide\n",
      "/Applications/anaconda/lib/python3.6/site-packages/ipykernel_launcher.py:33: RuntimeWarning: invalid value encountered in true_divide\n"
     ]
    },
    {
     "name": "stdout",
     "output_type": "stream",
     "text": [
      "FINISHED classifying. accuracy score :\n",
      " 0.41935483871\n",
      "[[6 0 3 1]\n",
      " [5 0 0 0]\n",
      " [1 0 6 1]\n",
      " [5 0 2 1]]\n",
      "\n",
      "\n",
      "The 7 classification result is:\n"
     ]
    },
    {
     "name": "stderr",
     "output_type": "stream",
     "text": [
      "/Applications/anaconda/lib/python3.6/site-packages/ipykernel_launcher.py:25: RuntimeWarning: invalid value encountered in true_divide\n",
      "/Applications/anaconda/lib/python3.6/site-packages/ipykernel_launcher.py:33: RuntimeWarning: invalid value encountered in true_divide\n"
     ]
    },
    {
     "name": "stdout",
     "output_type": "stream",
     "text": [
      "FINISHED classifying. accuracy score :\n",
      " 0.516129032258\n",
      "[[7 0 2 1]\n",
      " [5 0 0 0]\n",
      " [1 0 7 0]\n",
      " [4 0 2 2]]\n",
      "\n",
      "\n",
      "The 8 classification result is:\n"
     ]
    },
    {
     "name": "stderr",
     "output_type": "stream",
     "text": [
      "/Applications/anaconda/lib/python3.6/site-packages/ipykernel_launcher.py:25: RuntimeWarning: invalid value encountered in true_divide\n",
      "/Applications/anaconda/lib/python3.6/site-packages/ipykernel_launcher.py:33: RuntimeWarning: invalid value encountered in true_divide\n"
     ]
    },
    {
     "name": "stdout",
     "output_type": "stream",
     "text": [
      "FINISHED classifying. accuracy score :\n",
      " 0.516129032258\n",
      "[[7 0 3 0]\n",
      " [5 0 0 0]\n",
      " [1 0 7 0]\n",
      " [4 0 2 2]]\n",
      "\n",
      "\n",
      "The 9 classification result is:\n"
     ]
    },
    {
     "name": "stderr",
     "output_type": "stream",
     "text": [
      "/Applications/anaconda/lib/python3.6/site-packages/ipykernel_launcher.py:25: RuntimeWarning: invalid value encountered in true_divide\n",
      "/Applications/anaconda/lib/python3.6/site-packages/ipykernel_launcher.py:33: RuntimeWarning: invalid value encountered in true_divide\n"
     ]
    },
    {
     "name": "stdout",
     "output_type": "stream",
     "text": [
      "FINISHED classifying. accuracy score :\n",
      " 0.451612903226\n",
      "[[6 0 3 1]\n",
      " [5 0 0 0]\n",
      " [1 0 7 0]\n",
      " [5 0 2 1]]\n",
      "\n",
      "\n",
      "The 10 classification result is:\n"
     ]
    },
    {
     "name": "stderr",
     "output_type": "stream",
     "text": [
      "/Applications/anaconda/lib/python3.6/site-packages/ipykernel_launcher.py:25: RuntimeWarning: invalid value encountered in true_divide\n",
      "/Applications/anaconda/lib/python3.6/site-packages/ipykernel_launcher.py:33: RuntimeWarning: invalid value encountered in true_divide\n"
     ]
    },
    {
     "name": "stdout",
     "output_type": "stream",
     "text": [
      "FINISHED classifying. accuracy score :\n",
      " 0.483870967742\n",
      "[[7 0 3 0]\n",
      " [5 0 0 0]\n",
      " [1 0 7 0]\n",
      " [5 0 2 1]]\n",
      "\n",
      "\n",
      "The average accuracy is: 0.474193548387 \n",
      "\n",
      "The sensitivity rate is: [ 0.65    0.      0.8625  0.1625] \n",
      "\n",
      "The specificity rate is: [ 0.49047619  1.          0.79565217  0.96086957] \n",
      "\n"
     ]
    },
    {
     "name": "stderr",
     "output_type": "stream",
     "text": [
      "/Applications/anaconda/lib/python3.6/site-packages/ipykernel_launcher.py:25: RuntimeWarning: invalid value encountered in true_divide\n",
      "/Applications/anaconda/lib/python3.6/site-packages/ipykernel_launcher.py:33: RuntimeWarning: invalid value encountered in true_divide\n"
     ]
    }
   ],
   "source": [
    "# Split the dataset again than get a new classification result\n",
    "x_train, x_test, y_train, y_test=train_test_split(nx_data, new_labels, test_size=0.25, stratify=new_labels)\n",
    "n_rf(epoch = 10)"
   ]
  },
  {
   "cell_type": "markdown",
   "metadata": {},
   "source": [
    "The accuracy rate improved by 9%, which indicates that the classification result may depend on the dataset split situation. Since that, we plan to run the random forest model again and **shuffle the data each time**."
   ]
  },
  {
   "cell_type": "markdown",
   "metadata": {},
   "source": [
    "## Random Forest Model 2: Shuffle the data each time (based on model 1)"
   ]
  },
  {
   "cell_type": "code",
   "execution_count": 15,
   "metadata": {
    "collapsed": true
   },
   "outputs": [],
   "source": [
    "def shuffle_rf(x_data, y_data, epoch=1):\n",
    "    acc = []\n",
    "    sensitivity = []\n",
    "    specificity = []\n",
    "    for i in range(1,epoch+1):\n",
    "        x_train, x_test, y_train, y_test=train_test_split(x_data, y_data, test_size=0.25, stratify=y_data)\n",
    "        print('The %s classification result is:'%i)\n",
    "        score, TPR, TNR = rf(x_train, y_train, x_test, y_test)\n",
    "        acc.append(score)\n",
    "        sensitivity.append(TPR)\n",
    "        specificity.append(TNR)\n",
    "        print('\\n')\n",
    "    print('The average accuracy is:', sum(acc)/len(acc),'\\n')\n",
    "    print('The sensitivity rate is:', sum(sensitivity)/epoch, '\\n')\n",
    "    print('The specificity rate is:', sum(specificity)/epoch, '\\n')"
   ]
  },
  {
   "cell_type": "code",
   "execution_count": 16,
   "metadata": {
    "scrolled": true
   },
   "outputs": [
    {
     "name": "stdout",
     "output_type": "stream",
     "text": [
      "The 1 classification result is:\n",
      "FINISHED classifying. accuracy score :\n",
      " 0.387096774194\n",
      "[[7 0 3 0]\n",
      " [5 0 0 0]\n",
      " [2 1 5 0]\n",
      " [4 0 4 0]]\n",
      "\n",
      "\n",
      "The 2 classification result is:\n"
     ]
    },
    {
     "name": "stderr",
     "output_type": "stream",
     "text": [
      "/Applications/anaconda/lib/python3.6/site-packages/ipykernel_launcher.py:25: RuntimeWarning: invalid value encountered in true_divide\n",
      "/Applications/anaconda/lib/python3.6/site-packages/ipykernel_launcher.py:33: RuntimeWarning: invalid value encountered in true_divide\n"
     ]
    },
    {
     "name": "stdout",
     "output_type": "stream",
     "text": [
      "FINISHED classifying. accuracy score :\n",
      " 0.41935483871\n",
      "[[5 0 2 3]\n",
      " [2 0 2 1]\n",
      " [1 0 7 0]\n",
      " [5 0 2 1]]\n",
      "\n",
      "\n",
      "The 3 classification result is:\n"
     ]
    },
    {
     "name": "stderr",
     "output_type": "stream",
     "text": [
      "/Applications/anaconda/lib/python3.6/site-packages/ipykernel_launcher.py:25: RuntimeWarning: invalid value encountered in true_divide\n",
      "/Applications/anaconda/lib/python3.6/site-packages/ipykernel_launcher.py:33: RuntimeWarning: invalid value encountered in true_divide\n"
     ]
    },
    {
     "name": "stdout",
     "output_type": "stream",
     "text": [
      "FINISHED classifying. accuracy score :\n",
      " 0.451612903226\n",
      "[[8 0 1 1]\n",
      " [1 0 2 2]\n",
      " [2 0 6 0]\n",
      " [7 0 1 0]]\n",
      "\n",
      "\n",
      "The 4 classification result is:\n"
     ]
    },
    {
     "name": "stderr",
     "output_type": "stream",
     "text": [
      "/Applications/anaconda/lib/python3.6/site-packages/ipykernel_launcher.py:25: RuntimeWarning: invalid value encountered in true_divide\n",
      "/Applications/anaconda/lib/python3.6/site-packages/ipykernel_launcher.py:33: RuntimeWarning: invalid value encountered in true_divide\n"
     ]
    },
    {
     "name": "stdout",
     "output_type": "stream",
     "text": [
      "FINISHED classifying. accuracy score :\n",
      " 0.451612903226\n",
      "[[5 0 4 1]\n",
      " [5 0 0 0]\n",
      " [0 0 8 0]\n",
      " [4 0 3 1]]\n",
      "\n",
      "\n",
      "The 5 classification result is:\n"
     ]
    },
    {
     "name": "stderr",
     "output_type": "stream",
     "text": [
      "/Applications/anaconda/lib/python3.6/site-packages/ipykernel_launcher.py:25: RuntimeWarning: invalid value encountered in true_divide\n",
      "/Applications/anaconda/lib/python3.6/site-packages/ipykernel_launcher.py:33: RuntimeWarning: invalid value encountered in true_divide\n"
     ]
    },
    {
     "name": "stdout",
     "output_type": "stream",
     "text": [
      "FINISHED classifying. accuracy score :\n",
      " 0.354838709677\n",
      "[[4 0 5 1]\n",
      " [3 0 1 1]\n",
      " [2 0 5 1]\n",
      " [4 0 2 2]]\n",
      "\n",
      "\n",
      "The 6 classification result is:\n"
     ]
    },
    {
     "name": "stderr",
     "output_type": "stream",
     "text": [
      "/Applications/anaconda/lib/python3.6/site-packages/ipykernel_launcher.py:25: RuntimeWarning: invalid value encountered in true_divide\n",
      "/Applications/anaconda/lib/python3.6/site-packages/ipykernel_launcher.py:33: RuntimeWarning: invalid value encountered in true_divide\n"
     ]
    },
    {
     "name": "stdout",
     "output_type": "stream",
     "text": [
      "FINISHED classifying. accuracy score :\n",
      " 0.387096774194\n",
      "[[5 0 5 0]\n",
      " [2 0 1 2]\n",
      " [1 0 7 0]\n",
      " [2 0 6 0]]\n",
      "\n",
      "\n",
      "The 7 classification result is:\n"
     ]
    },
    {
     "name": "stderr",
     "output_type": "stream",
     "text": [
      "/Applications/anaconda/lib/python3.6/site-packages/ipykernel_launcher.py:25: RuntimeWarning: invalid value encountered in true_divide\n",
      "/Applications/anaconda/lib/python3.6/site-packages/ipykernel_launcher.py:33: RuntimeWarning: invalid value encountered in true_divide\n"
     ]
    },
    {
     "name": "stdout",
     "output_type": "stream",
     "text": [
      "FINISHED classifying. accuracy score :\n",
      " 0.483870967742\n",
      "[[7 0 3 0]\n",
      " [2 0 3 0]\n",
      " [0 0 8 0]\n",
      " [4 0 4 0]]\n",
      "\n",
      "\n",
      "The 8 classification result is:\n"
     ]
    },
    {
     "name": "stderr",
     "output_type": "stream",
     "text": [
      "/Applications/anaconda/lib/python3.6/site-packages/ipykernel_launcher.py:25: RuntimeWarning: invalid value encountered in true_divide\n",
      "/Applications/anaconda/lib/python3.6/site-packages/ipykernel_launcher.py:33: RuntimeWarning: invalid value encountered in true_divide\n"
     ]
    },
    {
     "name": "stdout",
     "output_type": "stream",
     "text": [
      "FINISHED classifying. accuracy score :\n",
      " 0.451612903226\n",
      "[[6 0 4 0]\n",
      " [4 0 0 1]\n",
      " [0 0 7 1]\n",
      " [6 0 1 1]]\n",
      "\n",
      "\n",
      "The 9 classification result is:\n"
     ]
    },
    {
     "name": "stderr",
     "output_type": "stream",
     "text": [
      "/Applications/anaconda/lib/python3.6/site-packages/ipykernel_launcher.py:25: RuntimeWarning: invalid value encountered in true_divide\n",
      "/Applications/anaconda/lib/python3.6/site-packages/ipykernel_launcher.py:33: RuntimeWarning: invalid value encountered in true_divide\n"
     ]
    },
    {
     "name": "stdout",
     "output_type": "stream",
     "text": [
      "FINISHED classifying. accuracy score :\n",
      " 0.483870967742\n",
      "[[7 0 3 0]\n",
      " [1 0 4 0]\n",
      " [0 0 8 0]\n",
      " [4 0 4 0]]\n",
      "\n",
      "\n",
      "The 10 classification result is:\n"
     ]
    },
    {
     "name": "stderr",
     "output_type": "stream",
     "text": [
      "/Applications/anaconda/lib/python3.6/site-packages/ipykernel_launcher.py:25: RuntimeWarning: invalid value encountered in true_divide\n",
      "/Applications/anaconda/lib/python3.6/site-packages/ipykernel_launcher.py:33: RuntimeWarning: invalid value encountered in true_divide\n"
     ]
    },
    {
     "name": "stdout",
     "output_type": "stream",
     "text": [
      "FINISHED classifying. accuracy score :\n",
      " 0.354838709677\n",
      "[[6 0 3 1]\n",
      " [3 0 1 1]\n",
      " [1 0 5 2]\n",
      " [7 0 1 0]]\n",
      "\n",
      "\n",
      "The average accuracy is: 0.422580645161 \n",
      "\n",
      "The sensitivity rate is: [ 0.6     0.      0.825   0.0625] \n",
      "\n",
      "The specificity rate is: [ 0.6         0.99615385  0.67391304  0.9173913 ] \n",
      "\n"
     ]
    },
    {
     "name": "stderr",
     "output_type": "stream",
     "text": [
      "/Applications/anaconda/lib/python3.6/site-packages/ipykernel_launcher.py:25: RuntimeWarning: invalid value encountered in true_divide\n",
      "/Applications/anaconda/lib/python3.6/site-packages/ipykernel_launcher.py:33: RuntimeWarning: invalid value encountered in true_divide\n"
     ]
    }
   ],
   "source": [
    "shuffle_rf(nx_data, new_labels, 10)"
   ]
  },
  {
   "cell_type": "markdown",
   "metadata": {},
   "source": [
    "Therefore, the average accuracy rate is around 42%."
   ]
  },
  {
   "cell_type": "markdown",
   "metadata": {},
   "source": [
    "## Random Forest Model 3: Change y_data into one-hot coding (based on model 2)"
   ]
  },
  {
   "cell_type": "code",
   "execution_count": 19,
   "metadata": {
    "collapsed": true
   },
   "outputs": [],
   "source": [
    "from keras.utils import np_utils\n",
    "y_data = np_utils.to_categorical(new_labels)\n",
    "\n",
    "# Since multilabel-indicator is not supported for confusion matrix, we redefine the rf function.\n",
    "def rf(x_train, y_train, x_test, y_test):\n",
    "    # Create Random Forest object\n",
    "    model= RandomForestClassifier(n_estimators=1000)\n",
    "    # Train the model using the training sets and check score\n",
    "    model.fit(x_train, y_train)\n",
    "    #Predict Output\n",
    "    pred= model.predict(x_test)\n",
    "    # Apply model on testing sets\n",
    "    score = model.score(x_test, y_test)\n",
    "    print('FINISHED classifying. accuracy score :\\n', score)\n",
    "    # Create confusion matrix \n",
    "    #print(confusion_matrix(y_test, pred))\n",
    "    return score\n",
    "\n",
    "def shuffle_rf(x_data, y_data, epoch=1):\n",
    "    acc = []\n",
    "    for i in range(1,epoch+1):\n",
    "        x_train, x_test, y_train, y_test=train_test_split(x_data, y_data, test_size=0.25, stratify=y_data)\n",
    "        print('The %s classification result is:'%i)\n",
    "        score = rf(x_train, y_train, x_test, y_test)\n",
    "        acc.append(score)\n",
    "        print('\\n')\n",
    "    print('The average accuracy is:', sum(acc)/len(acc),'\\n')"
   ]
  },
  {
   "cell_type": "code",
   "execution_count": 20,
   "metadata": {
    "scrolled": true
   },
   "outputs": [
    {
     "name": "stdout",
     "output_type": "stream",
     "text": [
      "The 1 classification result is:\n",
      "FINISHED classifying. accuracy score :\n",
      " 0.483870967742\n",
      "\n",
      "\n",
      "The 2 classification result is:\n",
      "FINISHED classifying. accuracy score :\n",
      " 0.451612903226\n",
      "\n",
      "\n",
      "The 3 classification result is:\n",
      "FINISHED classifying. accuracy score :\n",
      " 0.483870967742\n",
      "\n",
      "\n",
      "The 4 classification result is:\n",
      "FINISHED classifying. accuracy score :\n",
      " 0.548387096774\n",
      "\n",
      "\n",
      "The 5 classification result is:\n",
      "FINISHED classifying. accuracy score :\n",
      " 0.41935483871\n",
      "\n",
      "\n",
      "The 6 classification result is:\n",
      "FINISHED classifying. accuracy score :\n",
      " 0.451612903226\n",
      "\n",
      "\n",
      "The 7 classification result is:\n",
      "FINISHED classifying. accuracy score :\n",
      " 0.58064516129\n",
      "\n",
      "\n",
      "The 8 classification result is:\n",
      "FINISHED classifying. accuracy score :\n",
      " 0.483870967742\n",
      "\n",
      "\n",
      "The 9 classification result is:\n",
      "FINISHED classifying. accuracy score :\n",
      " 0.387096774194\n",
      "\n",
      "\n",
      "The 10 classification result is:\n",
      "FINISHED classifying. accuracy score :\n",
      " 0.58064516129\n",
      "\n",
      "\n",
      "The average accuracy is: 0.487096774194 \n",
      "\n"
     ]
    }
   ],
   "source": [
    "shuffle_rf(nx_data, y_data, 10)"
   ]
  },
  {
   "cell_type": "markdown",
   "metadata": {},
   "source": [
    "After applying one-hot coding, the average accuracy rate **increased by 7%**. <br/>\n",
    "\n",
    "Reasons from the author of xgboost **tqchen**: <br/>\n",
    "Indeed there is not a unified way handling categorical features in trees. <br/>\n",
    "If you want ordered variables, you can transform the variables into numerical levels(say age). Or if you prefer treat it as categorical variable, do one hot encoding. One-hot encoding could be helpful when the number of categories are small( in level of 10 to 100). In such case one-hot encoding can discover interesting interactions, while ordering them makes it harder to be discovered. <br/>\n",
    "\n",
    "\n",
    "\n",
    "Referrence: <br/>\n",
    "http://d0evi1.com/onehot/ <br/>\n",
    "https://github.com/szilard/benchm-ml/issues/1"
   ]
  },
  {
   "cell_type": "code",
   "execution_count": null,
   "metadata": {
    "collapsed": true
   },
   "outputs": [],
   "source": []
  }
 ],
 "metadata": {
  "kernelspec": {
   "display_name": "Python 3",
   "language": "python",
   "name": "python3"
  },
  "language_info": {
   "codemirror_mode": {
    "name": "ipython",
    "version": 3
   },
   "file_extension": ".py",
   "mimetype": "text/x-python",
   "name": "python",
   "nbconvert_exporter": "python",
   "pygments_lexer": "ipython3",
   "version": "3.6.3"
  }
 },
 "nbformat": 4,
 "nbformat_minor": 2
}
